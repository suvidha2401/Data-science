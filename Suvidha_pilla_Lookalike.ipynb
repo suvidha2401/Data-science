{
 "cells": [
  {
   "cell_type": "code",
   "execution_count": null,
   "metadata": {},
   "outputs": [],
   "source": [
    "import pandas as pd\n",
    "from sklearn.metrics.pairwise import cosine_similarity\n",
    "import numpy as np\n",
    "customers = pd.read_csv(\"/content/Customers.csv\")\n",
    "products = pd.read_csv(\"/content/Products.csv\")\n",
    "transactions = pd.read_csv(\"/content/Transactions.csv\")\n",
    "merged_data = pd.merge(transactions, customers, on=\"CustomerID\")\n",
    "merged_data = pd.merge(merged_data, products, on=\"ProductID\")\n",
    "customer_total_value = merged_data.groupby(\"CustomerID\")[\"TotalValue\"].sum()\n",
    "customer_product_count = merged_data.groupby(\"CustomerID\")[\"ProductID\"].nunique()\n",
    "customers[\"RegionEncoded\"] = customers[\"Region\"].astype(\"category\").cat.codes\n",
    "customer_features = customers[[\"CustomerID\", \"RegionEncoded\"]].copy()\n",
    "customer_features = customer_features.set_index(\"CustomerID\")\n",
    "customer_features[\"TotalValue\"] = customer_total_value\n",
    "customer_features[\"ProductCount\"] = customer_product_count\n",
    "customer_features = customer_features.fillna(0)\n",
    "feature_matrix = customer_features.values\n",
    "similarity_matrix = cosine_similarity(feature_matrix)\n",
    "similarity_df = pd.DataFrame(similarity_matrix, index=customer_features.index, columns=customer_features.index)\n",
    "print(\"\\nEnter a CustomerID to view similar customers (e.g., C0001):\")\n",
    "customer_id = input().strip()\n",
    "\n",
    "if customer_id in similarity_df.index:\n",
    "    print(f\"\\nSimilarity scores for Customer {customer_id}:\")\n",
    "    scores = similarity_df[customer_id].sort_values(ascending=False).iloc[1:4]\n",
    "    print(scores)\n",
    "else:\n",
    "    print(f\"\\nCustomerID {customer_id} not found in the dataset!\")\n",
    "print(\"\\nGenerating lookalike recommendations...\")\n",
    "lookalike_results = {}\n",
    "for customer_id in customers[\"CustomerID\"][:20]:\n",
    "    scores = similarity_df[customer_id].sort_values(ascending=False).iloc[1:4]\n",
    "    lookalike_results[customer_id] = list(zip(scores.index, scores.values))\n",
    "lookalike_df = pd.DataFrame({\n",
    "    \"CustomerID\": lookalike_results.keys(),\n",
    "    \"Lookalikes\": [str(value) for value in lookalike_results.values()]\n",
    "})\n",
    "lookalike_df.to_csv(\"Lookalike.csv\", index=False)\n",
    "\n",
    "print(\"\\nLookalike recommendations saved to Lookalike.csv\")\n",
    "print(\"\\nFirst few recommendations:\")\n",
    "print(lookalike_df.head())"
   ]
  }
 ],
 "metadata": {
  "language_info": {
   "name": "python"
  }
 },
 "nbformat": 4,
 "nbformat_minor": 2
}
