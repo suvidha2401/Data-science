{
 "cells": [
  {
   "cell_type": "code",
   "execution_count": null,
   "metadata": {},
   "outputs": [],
   "source": [
    "import pandas as pd\n",
    "from sklearn.cluster import KMeans\n",
    "from sklearn.preprocessing import StandardScaler\n",
    "from sklearn.metrics import davies_bouldin_score, silhouette_score\n",
    "import matplotlib.pyplot as plt\n",
    "import seaborn as sns\n",
    "\n",
    "customers = pd.read_csv(\"/content/Customers.csv\")\n",
    "transactions = pd.read_csv(\"/content/Transactions.csv\")\n",
    "\n",
    "merged_data = pd.merge(transactions, customers, on=\"CustomerID\")\n",
    "\n",
    "customer_features = merged_data.groupby(\"CustomerID\").agg({\n",
    "    \"Region\": lambda x: x.iloc[0],\n",
    "    \"TotalValue\": \"sum\",\n",
    "    \"Quantity\": \"sum\",\n",
    "    \"ProductID\": \"nunique\"\n",
    "}).rename(columns={\"ProductID\": \"ProductCount\"}).reset_index()\n",
    "\n",
    "customer_features[\"RegionEncoded\"] = customer_features[\"Region\"].astype(\"category\").cat.codes\n",
    "\n",
    "clustering_data = customer_features[[\"RegionEncoded\", \"TotalValue\", \"Quantity\", \"ProductCount\"]]\n",
    "\n",
    "scaler = StandardScaler()\n",
    "scaled_data = scaler.fit_transform(clustering_data)\n",
    "\n",
    "kmeans = KMeans(n_clusters=4, random_state=42)\n",
    "customer_features[\"Cluster\"] = kmeans.fit_predict(scaled_data)\n",
    "\n",
    "db_index = davies_bouldin_score(scaled_data, kmeans.labels_)\n",
    "silhouette_avg = silhouette_score(scaled_data, kmeans.labels_)\n",
    "\n",
    "print(f\"Davies-Bouldin Index: {db_index}\")\n",
    "print(f\"Silhouette Score: {silhouette_avg}\")\n",
    "\n",
    "plt.figure(figsize=(8, 6))\n",
    "sns.scatterplot(\n",
    "    x=scaled_data[:, 0], y=scaled_data[:, 1], hue=customer_features[\"Cluster\"], palette=\"viridis\"\n",
    ")\n",
    "plt.title(\"Customer Segmentation Clusters\")\n",
    "plt.xlabel(\"Feature 1 (Region Encoded)\")\n",
    "plt.ylabel(\"Feature 2 (Scaled Total Value)\")\n",
    "plt.legend(title=\"Cluster\")\n",
    "plt.show()\n",
    "\n",
    "customer_features.to_csv(\"Customer_Clusters.csv\", index=False)\n",
    "print(\"Clustering results saved to Customer_Clusters.csv\")"
   ]
  }
 ],
 "metadata": {
  "language_info": {
   "name": "python"
  }
 },
 "nbformat": 4,
 "nbformat_minor": 2
}
