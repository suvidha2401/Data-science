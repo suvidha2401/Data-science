{
 "cells": [
  {
   "cell_type": "code",
   "execution_count": null,
   "metadata": {},
   "outputs": [],
   "source": [
    "import pandas as pd\n",
    "customers=pd.read_csv('/content/Customers.csv')\n",
    "products=pd.read_csv('/content/Products.csv')\n",
    "transactions=pd.read_csv('/content/Transactions.csv')\n",
    "print(\"\\nMissing values in Customers:\", customers.isnull().sum())\n",
    "print(\"Missing values in Products:\", products.isnull().sum())\n",
    "print(\"Missing values in Transactions:\", transactions.isnull().sum())\n",
    "print(\"\\nDuplicates in Customers:\", customers.duplicated().sum())\n",
    "print(\"Duplicates in Products:\", products.duplicated().sum())\n",
    "print(\"Duplicates in Transactions:\", transactions.duplicated().sum())\n",
    "# Merge datasets\n",
    "merged_data = pd.merge(transactions, customers, on=\"CustomerID\")\n",
    "merged_data = pd.merge(merged_data, products, on=\"ProductID\")\n",
    "# Inspect merged data\n",
    "print(\"\\nMerged Dataset:\")\n",
    "print(merged_data.head())\n",
    "# Example EDA Visualizations\n",
    "## Customer Distribution by Region\n",
    "region_counts = customers['Region'].value_counts()\n",
    "sns.barplot(x=region_counts.index, y=region_counts.values)\n",
    "plt.title(\"Customer Distribution by Region\")\n",
    "plt.xlabel(\"Region\")\n",
    "plt.ylabel(\"Count\")\n",
    "plt.show()\n",
    "## Top-Selling Categories\n",
    "category_sales = merged_data.groupby('Category')['TotalValue'].sum().sort_values(ascending=False)\n",
    "category_sales.plot(kind='bar', title=\"Sales by Product Category\", ylabel=\"Total Sales (USD)\")\n",
    "plt.show()\n",
    "## Monthly Transaction Trends\n",
    "merged_data['TransactionDate'] = pd.to_datetime(merged_data['TransactionDate'])\n",
    "monthly_sales = merged_data.resample('M', on='TransactionDate')['TotalValue'].sum()\n",
    "monthly_sales.plot(title=\"Monthly Sales Trends\", ylabel=\"Total Sales (USD)\")\n",
    "plt.show()\n",
    "## Top Products by Revenue\n",
    "product_revenue = merged_data.groupby('ProductName')['TotalValue'].sum().nlargest(10)\n",
    "sns.barplot(x=product_revenue.values, y=product_revenue.index)\n",
    "plt.title(\"Top 10 Products by Revenue\")\n",
    "plt.xlabel(\"Revenue (USD)\")\n",
    "plt.ylabel(\"Product Name\")\n",
    "plt.show()\n",
    "## Customer Signup Trends\n",
    "signup_trends = customers['SignupDate'] = pd.to_datetime(customers['SignupDate'])\n",
    "monthly_signups = customers.resample('M', on='SignupDate').size()\n",
    "monthly_signups.plot(title=\"Monthly Customer Signups\", ylabel=\"Number of Signups\")\n",
    "plt.show()"
   ]
  }
 ],
 "metadata": {
  "kernelspec": {
   "display_name": "base",
   "language": "python",
   "name": "python3"
  },
  "language_info": {
   "name": "python",
   "version": "3.9.12"
  }
 },
 "nbformat": 4,
 "nbformat_minor": 2
}
